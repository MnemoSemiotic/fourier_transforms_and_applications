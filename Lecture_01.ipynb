{
 "cells": [
  {
   "cell_type": "markdown",
   "metadata": {},
   "source": [
    "## Lecture 1: The Fourier Transforms and its Applications\n",
    "* [Associated Video](https://www.youtube.com/watch?v=gZNm7L96pfY&t=1456s&index=2&list=PLB24BC7956EE040CD)\n",
    "* [Full Playlist](http://www.youtube.com/view_play_list?p=B24BC7956EE040CD)\n",
    "* [Fourier Transform Wikipedia](https://en.wikipedia.org/wiki/Fourier_transform)\n",
    "* [Fast Fourier Transform Wikipedia](https://en.wikipedia.org/wiki/Fast_Fourier_transform)"
   ]
  },
  {
   "cell_type": "code",
   "execution_count": 3,
   "metadata": {},
   "outputs": [],
   "source": [
    "# TODO: quick reference example of using \n",
    "#       numpy's fft.fft2 on image (as numpy array)\n",
    "# https://docs.scipy.org/doc/numpy/reference/generated/numpy.fft.fft2.html"
   ]
  },
  {
   "cell_type": "markdown",
   "metadata": {},
   "source": []
  }
 ],
 "metadata": {
  "kernelspec": {
   "display_name": "Python 3",
   "language": "python",
   "name": "python3"
  },
  "language_info": {
   "codemirror_mode": {
    "name": "ipython",
    "version": 3
   },
   "file_extension": ".py",
   "mimetype": "text/x-python",
   "name": "python",
   "nbconvert_exporter": "python",
   "pygments_lexer": "ipython3",
   "version": "3.6.7"
  }
 },
 "nbformat": 4,
 "nbformat_minor": 2
}
