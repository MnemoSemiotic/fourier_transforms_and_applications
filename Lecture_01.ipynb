{
 "cells": [
  {
   "cell_type": "markdown",
   "metadata": {},
   "source": [
    "## Lecture 1: The Fourier Transforms and its Applications\n",
    "* [Associated Video](https://www.youtube.com/watch?v=gZNm7L96pfY&t=1456s&index=2&list=PLB24BC7956EE040CD)\n",
    "* [Full Playlist](http://www.youtube.com/view_play_list?p=B24BC7956EE040CD)\n",
    "* [Fourier Transform Wikipedia](https://en.wikipedia.org/wiki/Fourier_transform)\n",
    "* [Fast Fourier Transform Wikipedia](https://en.wikipedia.org/wiki/Fast_Fourier_transform)\n",
    "* [3Blue1Brown - But What is the Fourier Transform?](https://www.youtube.com/watch?v=spUNpyF58BY)"
   ]
  },
  {
   "cell_type": "code",
   "execution_count": 3,
   "metadata": {},
   "outputs": [],
   "source": [
    "# TODO: quick reference example of using \n",
    "#       numpy's fft.fft2 on image (as numpy array)\n",
    "# https://docs.scipy.org/doc/numpy/reference/generated/numpy.fft.fft2.html"
   ]
  },
  {
   "cell_type": "markdown",
   "metadata": {},
   "source": [
    "### Brief Discussion of Fourier Series (16:42)\n",
    "* More Resources:\n",
    "    * [Fourier Series Wikipedia](https://en.wikipedia.org/wiki/Fourier_series)\n",
    "    * [Gilbert Strang, MIT RES.18-009](https://www.youtube.com/watch?v=vA9dfINW4Rg)\n",
    "    * [Khan Academy - Fourier Series Intro](https://www.youtube.com/watch?v=UKHBWzoOKsY)\n",
    "\n",
    "#### Fourier Series in contrast with Fourier Transform\n",
    "* **Fourier Series**: identified with mathematical analysis of periodic phenomena\n",
    "    * [KA: Eq for simple harmonic oscillators](https://www.youtube.com/watch?v=kLWXLbciobw)\n",
    "* **Fourier Transform**: can be considered as a limiting case of the Fourier Series, and is concerned with the analysis of non-periodic phenomena\n",
    "* Some ideas carry well betw the two, some don't\n",
    "    * Analysis vs Synthesis\n",
    "        * **Analysis**: breaking a signal/function into (hopefully) simpler constituent parts\n",
    "        * **Synthesis**: reassembling a signal from its constituent parts\n",
    "        * Both accomplished by linear operations: integrals and series\n",
    "            * Fourier analysis is often thought of as a part of the study of \"linear systems\"\n",
    "\n",
    "#### Fourier Series and Periodic Phenomena (25:51)\n"
   ]
  },
  {
   "cell_type": "code",
   "execution_count": null,
   "metadata": {},
   "outputs": [],
   "source": []
  }
 ],
 "metadata": {
  "kernelspec": {
   "display_name": "Python 3",
   "language": "python",
   "name": "python3"
  },
  "language_info": {
   "codemirror_mode": {
    "name": "ipython",
    "version": 3
   },
   "file_extension": ".py",
   "mimetype": "text/x-python",
   "name": "python",
   "nbconvert_exporter": "python",
   "pygments_lexer": "ipython3",
   "version": "3.6.7"
  }
 },
 "nbformat": 4,
 "nbformat_minor": 2
}
