{
 "cells": [
  {
   "cell_type": "markdown",
   "metadata": {},
   "source": [
    "## Lecture 1: The Fourier Transforms and Applications\n",
    "* [Associated Video for Lecture 1](https://www.youtube.com/watch?v=gZNm7L96pfY&t=1456s&index=2&list=PLB24BC7956EE040CD)\n",
    "* [Full Playlist](http://www.youtube.com/view_play_list?p=B24BC7956EE040CD)\n",
    "* [Fourier Transform Wikipedia](https://en.wikipedia.org/wiki/Fourier_transform)\n",
    "* [Fast Fourier Transform Wikipedia](https://en.wikipedia.org/wiki/Fast_Fourier_transform)\n",
    "* [3Blue1Brown - But What is the Fourier Transform?](https://www.youtube.com/watch?v=spUNpyF58BY)"
   ]
  },
  {
   "cell_type": "code",
   "execution_count": 3,
   "metadata": {},
   "outputs": [],
   "source": [
    "# TODO: quick reference example of using \n",
    "#       numpy's fft.fft2 on image (as numpy array)\n",
    "# https://docs.scipy.org/doc/numpy/reference/generated/numpy.fft.fft2.html"
   ]
  },
  {
   "cell_type": "markdown",
   "metadata": {},
   "source": [
    "### Brief Discussion of Fourier Series (16:42)\n",
    "* More Resources:\n",
    "    * [Fourier Series Wikipedia](https://en.wikipedia.org/wiki/Fourier_series)\n",
    "    * [Gilbert Strang, MIT RES.18-009](https://www.youtube.com/watch?v=vA9dfINW4Rg)\n",
    "    * [Khan Academy - Fourier Series Intro](https://www.youtube.com/watch?v=UKHBWzoOKsY)\n",
    "\n",
    "#### Fourier Series in contrast with Fourier Transform\n",
    "* **Fourier Series**: identified with mathematical analysis of periodic phenomena\n",
    "    * [KA: Eq for simple harmonic oscillators](https://www.youtube.com/watch?v=kLWXLbciobw)\n",
    "* **Fourier Transform**: can be considered as a limiting case of the Fourier Series, and is concerned with the analysis of non-periodic phenomena\n",
    "* Some ideas carry well betw the two, some don't\n",
    "    * Analysis vs Synthesis\n",
    "        * **Analysis**: breaking a signal/function into (hopefully) simpler constituent parts\n",
    "        * **Synthesis**: reassembling a signal from its constituent parts\n",
    "        * Both accomplished by linear operations: integrals and series\n",
    "            * Fourier analysis is often thought of as a part of the study of \"linear systems\"\n",
    "\n",
    "#### Fourier Series and Periodic Phenomena (25:51)\n",
    "* math and engineering of regularly, repeating patterns\n",
    "* **periodicity**\n",
    "    * pattern repeats in **time**\n",
    "        * e.g. [harmonic motion](https://en.wikipedia.org/wiki/Simple_harmonic_motion)\n",
    "    * pattern repeats in **space**\n",
    "        * often, some physical quantity distributed over a region with symmetry (the region itself is repeating)\n",
    "        * periodicity arises from symmetry\n",
    "            * e.g. distribution of heat on a circular ring, measuring temp at points on the ring\n",
    "* NOTE: Fourier analysis is often associated with questions of SYMMETRY\n",
    "    * **Group Theory** : mathematizing ideas of symmetry\n",
    "        * [Prof Macauley, visual group theory playlist](https://www.youtube.com/watch?v=UwTQdOop-nU&list=PLwV-9DG53NDxU337smpTwm6sef4x-SCLv)\n",
    "\n",
    "#### Mathematical Descriptors of Periodicity (33:35)\n",
    "* **frequency**: for periodicity in time\n",
    "    * denoted $\\nu$ (nu), for number of times (cycles) repeated in a second\n",
    "    * generally, number of repetitions of pattern for a given time interval\n",
    "* **period** for periodicity in space\n",
    "    * fix the time, see how pattern is distributed over space\n",
    "        * physical measurement of how long before pattern repeats\n",
    "    * wavelength denoted by $\\lambda$: length of one complete pattern\n",
    "* Periodicity in time and periodicity in space come together in e.g., wave motion\n",
    "    * regularly repeating pattern (moving disturbance) that changes in time\n",
    "    * relationship betw frequency and wavelength: $distance = rate \\times time$\n",
    "        * if the rate ($\\lambda$: dist wave travels in one cycle) is the velocity of the wave of the motion and \n",
    "            * $\\lambda = V \\times \\frac{1}{\\nu}$ OR $\\lambda \\nu = V$\n",
    "            * reciprocal relationship betw two frequency and the wavelength: \n",
    "                * lambda (wavelength) is proportional to the reciprocal of the frequency\n",
    "    * In analysis and synthesis of signals using Fourier Analysis, there will be a reciprocal relationship between the quantities (or domains) involved\n",
    "    \n",
    "#### There are \"simple\" mathematical functions that repeat so that they can be used to model periodic phenomena (46:30)\n",
    "* $\\sin t$ and $\\cos t$ are periodic of period $2\\pi$\n",
    "    * $\\cos(t+2\\pi) = \\cos(t)$ for all values of t\n",
    "        * Further: $\\cos(t+2\\pi n) = \\cos(t)$ for all values of t, $n=0, \\pm 1, \\pm 2, \\cdots$\n",
    "    * $\\sin(t+2\\pi) = \\sin(t)$ for all values of t\n",
    "        * Further: $\\sin(t+2\\pi n ) = \\cos(t)$ for all values of t, $n=0, \\pm 1, \\pm 2, \\cdots$\n",
    "            * convention is that movement around the circle is counterclockwise is when $n$ is positive, clockwise when $n$ is negative\n",
    "    * Why?\n",
    "        * bc **sin (y-coord) and cos (x-coord) are associated with periodicity in space**, with an object that regularly repeats (simplest, the circle)\n",
    "        \n",
    "#### TAKEAWAY: Simple functions can model complex periodic behavior\n",
    "* fundamental discovery of Fourier series\n",
    "* basis of Fourier analysis\n"
   ]
  },
  {
   "cell_type": "markdown",
   "metadata": {},
   "source": []
  }
 ],
 "metadata": {
  "kernelspec": {
   "display_name": "Python 3",
   "language": "python",
   "name": "python3"
  },
  "language_info": {
   "codemirror_mode": {
    "name": "ipython",
    "version": 3
   },
   "file_extension": ".py",
   "mimetype": "text/x-python",
   "name": "python",
   "nbconvert_exporter": "python",
   "pygments_lexer": "ipython3",
   "version": "3.6.7"
  }
 },
 "nbformat": 4,
 "nbformat_minor": 2
}
