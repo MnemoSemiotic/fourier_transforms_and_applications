{
 "cells": [
  {
   "cell_type": "code",
   "execution_count": 19,
   "metadata": {},
   "outputs": [],
   "source": [
    "import matplotlib.pyplot as plt"
   ]
  },
  {
   "cell_type": "markdown",
   "metadata": {},
   "source": [
    "## Minkowski Distance\n",
    "* can be thought of as a generalization of Euclidean and Manhattan distance\n",
    "    * [wiki article](https://en.wikipedia.org/wiki/Minkowski_distance)\n",
    "* $\\mid \\mid \\mathbf u - \\mathbf v \\mid\\mid = (\\sum \\mid u_i - v_i \\mid^p)^{\\frac{1}{p}}$\n",
    "* consider that $p=1$ is manhattan distance\n",
    "* consider that $p=2$ is euclidean distance\n",
    "* consider that $p=\\inf$ is chebyshev distance"
   ]
  },
  {
   "cell_type": "code",
   "execution_count": 20,
   "metadata": {},
   "outputs": [],
   "source": [
    "from scipy.spatial import distance"
   ]
  },
  {
   "cell_type": "code",
   "execution_count": 21,
   "metadata": {},
   "outputs": [],
   "source": [
    "vec1 = [0,10]#,5]#,1]\n",
    "vec2 = [10,0]#,1]#,5]"
   ]
  },
  {
   "cell_type": "code",
   "execution_count": 22,
   "metadata": {},
   "outputs": [
    {
     "name": "stderr",
     "output_type": "stream",
     "text": [
      "/Users/tbot/anaconda3/lib/python3.6/site-packages/numpy/linalg/linalg.py:2295: RuntimeWarning: overflow encountered in reduce\n",
      "  ret = add.reduce(absx, axis=axis, keepdims=keepdims)\n"
     ]
    }
   ],
   "source": [
    "p = []\n",
    "dists = []\n",
    "for p_ in range(1,3000,1):\n",
    "    p.append(p_)\n",
    "    dists.append(distance.minkowski(vec1,vec2,p_))"
   ]
  },
  {
   "cell_type": "code",
   "execution_count": 23,
   "metadata": {},
   "outputs": [
    {
     "data": {
      "text/plain": [
       "[<matplotlib.lines.Line2D at 0x616ab4630>]"
      ]
     },
     "execution_count": 23,
     "metadata": {},
     "output_type": "execute_result"
    },
    {
     "data": {
      "image/png": "[encoded data removed]",
      "text/plain": [
       "<Figure size 432x288 with 1 Axes>"
      ]
     },
     "metadata": {
      "needs_background": "light"
     },
     "output_type": "display_data"
    }
   ],
   "source": [
    "plt.plot(dists)"
   ]
  },
  {
   "cell_type": "code",
   "execution_count": 25,
   "metadata": {},
   "outputs": [
    {
     "data": {
      "text/plain": [
       "12.59921049894873"
      ]
     },
     "execution_count": 25,
     "metadata": {},
     "output_type": "execute_result"
    }
   ],
   "source": [
    "dists[2]"
   ]
  },
  {
   "cell_type": "code",
   "execution_count": null,
   "metadata": {},
   "outputs": [],
   "source": []
  }
 ],
 "metadata": {
  "kernelspec": {
   "display_name": "Python 3",
   "language": "python",
   "name": "python3"
  },
  "language_info": {
   "codemirror_mode": {
    "name": "ipython",
    "version": 3
   },
   "file_extension": ".py",
   "mimetype": "text/x-python",
   "name": "python",
   "nbconvert_exporter": "python",
   "pygments_lexer": "ipython3",
   "version": "3.6.7"
  }
 },
 "nbformat": 4,
 "nbformat_minor": 2
}
