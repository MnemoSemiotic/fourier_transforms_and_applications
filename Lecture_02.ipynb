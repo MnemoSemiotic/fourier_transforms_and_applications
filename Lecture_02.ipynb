{
 "cells": [
  {
   "cell_type": "markdown",
   "metadata": {},
   "source": [
    "## Lecture 2: The Fourier Transforms and Applications\n",
    "* [Associated Video for Lecture 1](https://www.youtube.com/watch?v=1rqJl7Rs6ps&list=PLB24BC7956EE040CD&index=2)\n",
    "* [Full Playlist](http://www.youtube.com/view_play_list?p=B24BC7956EE040CD)\n",
    "* [Fourier Transform Wikipedia](https://en.wikipedia.org/wiki/Fourier_transform)\n",
    "* [Fast Fourier Transform Wikipedia](https://en.wikipedia.org/wiki/Fast_Fourier_transform)\n",
    "* [3Blue1Brown - But What is the Fourier Transform?](https://www.youtube.com/watch?v=spUNpyF58BY)"
   ]
  },
  {
   "cell_type": "markdown",
   "metadata": {},
   "source": [
    "## Mathematical Question of Periodicity\n",
    "* periodicity in **time** and periodicity in **space**\n",
    "    * either way, associated with the idea of symmetry\n",
    "* Periodic phenomena can be very simple or very complex\n",
    "    * problem: sine and cosine are both very simple\n",
    "    \n",
    "### How can sin(t) and cos(t) be used to model complex periodic phenomena\n",
    "* How general can we be?\n",
    "    * Hope to apply ideas in very general circumstances\n",
    "* Not all phenomena are naturally periodic\n",
    "* Phenomena that are periodic in time die out eventually\n",
    "    * Periodic functions (sine/cosine) go on forever\n",
    "* Can apply ideas of periodicity either way:\n",
    "    * consider signal that dies in a finite amount of time\n",
    "        * can force it to be periodic by just repeating the pattern\n",
    "        * **periodization of a signal** : used to study non-periodic signals\n",
    "        \n",
    "### General application of Study\n",
    "* Use of sine and cosine is not a restriction in the study of periodic phenomena\n",
    "* First, consider properties of a given, fixed period\n",
    "    * function signals periodic of **period=1**\n",
    "        * we consider functions $f(t)$ satisfying $f(t)+1 = f(t)$ for all $t$\n",
    "            * e.g., $sin(t)$, $sin(2\\pi t)$, ... and $cos(t)$, $cos(2\\pi t)$, ...\n",
    "            \n",
    "LEFT OFF AT 10:06"
   ]
  },
  {
   "cell_type": "code",
   "execution_count": null,
   "metadata": {},
   "outputs": [],
   "source": []
  }
 ],
 "metadata": {
  "kernelspec": {
   "display_name": "Python 3",
   "language": "python",
   "name": "python3"
  },
  "language_info": {
   "codemirror_mode": {
    "name": "ipython",
    "version": 3
   },
   "file_extension": ".py",
   "mimetype": "text/x-python",
   "name": "python",
   "nbconvert_exporter": "python",
   "pygments_lexer": "ipython3",
   "version": "3.6.7"
  }
 },
 "nbformat": 4,
 "nbformat_minor": 2
}
