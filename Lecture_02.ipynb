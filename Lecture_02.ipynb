{
 "cells": [
  {
   "cell_type": "markdown",
   "metadata": {},
   "source": [
    "## Lecture 2: The Fourier Transforms and Applications\n",
    "* [Associated Video for Lecture 1](https://www.youtube.com/watch?v=1rqJl7Rs6ps&list=PLB24BC7956EE040CD&index=2)\n",
    "* [Full Playlist](http://www.youtube.com/view_play_list?p=B24BC7956EE040CD)\n",
    "* [Fourier Transform Wikipedia](https://en.wikipedia.org/wiki/Fourier_transform)\n",
    "* [Fast Fourier Transform Wikipedia](https://en.wikipedia.org/wiki/Fast_Fourier_transform)\n",
    "* [3Blue1Brown - But What is the Fourier Transform?](https://www.youtube.com/watch?v=spUNpyF58BY)"
   ]
  },
  {
   "cell_type": "markdown",
   "metadata": {},
   "source": [
    "## Mathematical Question of Periodicity\n",
    "* periodicity in **time** and periodicity in **space**\n",
    "    * either way, associated with the idea of symmetry\n",
    "* Periodic phenomena can be very simple or very complex\n",
    "    * problem: sine and cosine are both very simple\n",
    "    \n",
    "### How can sin(t) and cos(t) be used to model complex periodic phenomena\n",
    "* How general can we be?\n",
    "    * Hope to apply ideas in very general circumstances\n",
    "* Not all phenomena are naturally periodic\n",
    "* Phenomena that are periodic in time die out eventually\n",
    "    * Periodic functions (sine/cosine) go on forever\n",
    "* Can apply ideas of periodicity either way:\n",
    "    * consider signal that dies in a finite amount of time\n",
    "        * can force it to be periodic by just repeating the pattern\n",
    "        * **periodization of a signal** : used to study non-periodic signals\n",
    "        \n",
    "### General application of Study\n",
    "* Use of sine and cosine is not a restriction in the study of periodic phenomena\n",
    "* First, consider properties of a given, fixed period\n",
    "    * function signals periodic of **period=1**\n",
    "        * we consider functions $f(t)$ satisfying $f(t+1) = f(t)$ for all $t$\n",
    "            * model signals:\n",
    "                * $sin(2\\pi t)$ has period 1\n",
    "                * $cos(2\\pi t)$ has period 1\n",
    "* **If we \"know\" a periodic function (eg period 1) on any interval of length 1, then we \"know\" it everywhere**\n",
    "* Can modify and combine $\\cos(2\\pi t)$ and $\\sin(2\\pi t)$ to model general periodic signals of period 1\n",
    "    * **one period, many frequencies**\n",
    "        * e.g., $\\sin(2\\pi t)$: \n",
    "            * has frequency of 1 (1 cycle in 1 second), repeats once on the interval 0-1\n",
    "            * ![graph_sin_2pi_t.png](images/graph_sin_2pi_t.png)\n",
    "        * and $\\sin(4\\pi t)$: \n",
    "            * period 1/2, frequency 2... but period 1/2 also means period 1, ie shorter and longer period\n",
    "            * ![graph_sin_4pi_t.png](images/graph_sin_4pi_t.png)\n",
    "        * and $\\sin(6\\pi t)$: \n",
    "            * period 1/3, frequency 3... but also period 1 == period 1/3\n",
    "            * ![graph_sin_6pi_t.png](images/graph_sin_6pi_t.png)\n",
    "        * What about the combination of them?\n",
    "            * $\\sin(2\\pi t) + \\sin(4\\pi t) +\\sin(6\\pi t) $\n",
    "            * NOTE: the period of the sum is 1\n",
    "                * slowest one defines the period, has to catch up to the quicker ones\n",
    "            * ![graph_sin2pit_sin4pit_sin6pit.png](images/graph_sin2pit_sin4pit_sin6pit.png)\n",
    "* For complicated periodic phenomena, it's more revealing to talk about the frequencies more than talking about the period\n",
    "    * complicated phenomena can be built out of the sines and cosines of varying frequencies\n",
    "    \n",
    "LEFT OFF AT 20:00\n",
    "            \n",
    "            \n",
    "            \n",
    "    "
   ]
  },
  {
   "cell_type": "code",
   "execution_count": null,
   "metadata": {},
   "outputs": [],
   "source": []
  }
 ],
 "metadata": {
  "kernelspec": {
   "display_name": "Python 3",
   "language": "python",
   "name": "python3"
  },
  "language_info": {
   "codemirror_mode": {
    "name": "ipython",
    "version": 3
   },
   "file_extension": ".py",
   "mimetype": "text/x-python",
   "name": "python",
   "nbconvert_exporter": "python",
   "pygments_lexer": "ipython3",
   "version": "3.6.7"
  }
 },
 "nbformat": 4,
 "nbformat_minor": 2
}
